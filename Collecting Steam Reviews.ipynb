{
 "cells": [
  {
   "cell_type": "markdown",
   "metadata": {},
   "source": [
    "# Collecting Steam Reviews"
   ]
  },
  {
   "cell_type": "markdown",
   "metadata": {},
   "source": [
    "To obtain all the Steam reviews, I used a Steam API called steamreviews: [pypi.org/project/steamreviews/](https://pypi.org/project/steamreviews/). With this Python library, we can get all the desired information that we want from the Steam reviews for our game of Fall Guys: Ultimate Knockout. For the sake of this data, we will filter reviews to only those of the English language.\n",
    "\n",
    "All of the data was collected on February 13, 2021, and so all the reviews in our dataset will be based on those written before this date."
   ]
  },
  {
   "cell_type": "code",
   "execution_count": 2,
   "metadata": {},
   "outputs": [],
   "source": [
    "# repo for downloading Steam reviews\n",
    "import steamreviews"
   ]
  },
  {
   "cell_type": "code",
   "execution_count": 29,
   "metadata": {},
   "outputs": [
    {
     "name": "stdout",
     "output_type": "stream",
     "text": [
      "[appID = 1097150] expected #reviews = 128659\n",
      "Number of queries 150 reached. Cooldown: 310 seconds\n",
      "Number of queries 150 reached. Cooldown: 310 seconds\n",
      "Number of queries 150 reached. Cooldown: 310 seconds\n",
      "Number of queries 150 reached. Cooldown: 310 seconds\n",
      "Number of queries 150 reached. Cooldown: 310 seconds\n",
      "Number of queries 150 reached. Cooldown: 310 seconds\n",
      "Number of queries 150 reached. Cooldown: 310 seconds\n",
      "Number of queries 150 reached. Cooldown: 310 seconds\n",
      "502 Bad Gateway for appID = 1097150 and cursor = AoJwnP+W4PMCdeLSmQI=. Cooldown: 10 seconds\n"
     ]
    }
   ],
   "source": [
    "# request parameters\n",
    "request_params = dict()\n",
    "request_params['filter'] = 'recent'\n",
    "request_params['language'] = 'english'\n",
    "\n",
    "# after collecting the data, save into json file in folder called data\n",
    "app_id = 1097150 # id of steam game (Fall Guys: Ultimate Knockout)\n",
    "review_dict, query_count = steamreviews.download_reviews_for_app_id(app_id,chosen_request_params=request_params)"
   ]
  },
  {
   "cell_type": "markdown",
   "metadata": {},
   "source": [
    "At first glance, there may have been an issue due to the 502 Bad Gateway error, which is an HTTP status code that can occur when the server prevents our requests. The output states that it expects 128659 reviews. Checking the length of the data we extracted, we have 128657 reviews, only 2 less than the expected amount, which is not a big problem for our analysis later."
   ]
  },
  {
   "cell_type": "code",
   "execution_count": 30,
   "metadata": {},
   "outputs": [
    {
     "data": {
      "text/plain": [
       "128657"
      ]
     },
     "execution_count": 30,
     "metadata": {},
     "output_type": "execute_result"
    }
   ],
   "source": [
    "len(review_dict['reviews']) # amount of reviews extracted"
   ]
  },
  {
   "cell_type": "markdown",
   "metadata": {},
   "source": [
    "We can then import our json file and extract only the relevant information that we need for our analysis into a csv file."
   ]
  },
  {
   "cell_type": "code",
   "execution_count": 32,
   "metadata": {},
   "outputs": [],
   "source": [
    "import json\n",
    "import pandas as pd\n",
    "\n",
    "# open json file of Steam reviews for Fall Guys\n",
    "with open('data/review_1097150.json') as f:\n",
    "    data = json.load(f)\n",
    "    \n",
    "# select reviews subset\n",
    "data = data['reviews']"
   ]
  },
  {
   "cell_type": "code",
   "execution_count": 33,
   "metadata": {},
   "outputs": [],
   "source": [
    "# initizialize empty dataframe for storing reviews\n",
    "review_df = []\n",
    "\n",
    "# filter JSON file to extract only the relevant fields that we want\n",
    "for id,info in data.items():\n",
    "    review = {'Steam ID':id,\n",
    "              'Review':info['review'],\n",
    "              'Recommended':info['voted_up'],\n",
    "              'Hours_Played':info['author']['playtime_forever'],\n",
    "              'Timestamp_Created':info['timestamp_created'],\n",
    "              'Last_Played':info['author']['last_played']}\n",
    "    \n",
    "    review_df.append(review)"
   ]
  },
  {
   "cell_type": "code",
   "execution_count": 34,
   "metadata": {},
   "outputs": [],
   "source": [
    "# use StringIO for reading json file\n",
    "from io import StringIO"
   ]
  },
  {
   "cell_type": "code",
   "execution_count": 35,
   "metadata": {},
   "outputs": [],
   "source": [
    "# convert into JSON string\n",
    "review_dump = json.dumps(review_df,indent=4)\n",
    "df = pd.read_json(StringIO(review_dump))\n",
    "\n",
    "# convert into a csv file\n",
    "df.to_csv('reviews.csv',index=False,encoding='utf-8')"
   ]
  }
 ],
 "metadata": {
  "kernelspec": {
   "display_name": "Python 3",
   "language": "python",
   "name": "python3"
  },
  "language_info": {
   "codemirror_mode": {
    "name": "ipython",
    "version": 3
   },
   "file_extension": ".py",
   "mimetype": "text/x-python",
   "name": "python",
   "nbconvert_exporter": "python",
   "pygments_lexer": "ipython3",
   "version": "3.7.6"
  }
 },
 "nbformat": 4,
 "nbformat_minor": 4
}
