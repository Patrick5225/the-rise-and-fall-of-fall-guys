{
 "cells": [
  {
   "cell_type": "markdown",
   "metadata": {},
   "source": [
    "# <center>The Rise and Fall of Fall Guys</center>"
   ]
  },
  {
   "cell_type": "markdown",
   "metadata": {},
   "source": [
    "# Introduction"
   ]
  },
  {
   "cell_type": "markdown",
   "metadata": {},
   "source": [
    "There has been a lot of criticism and hate lately towards the video game Fall Guys. The game was very popular during its early days from when it was released, but after many complaints its popularity seemed to have plummeted, with people calling it a \"dead\" game. I wanted to observe what people are generally saying, how they feel about the game, and compare if opinions have changed since the initial release of the game. To achieve this, I will analyze customer reviews from the Steam store that were written since the game was released.\n",
    "\n",
    "For context, Fall Guys: Ultimate Knockout is a PC game released on August 4, 2020. For PC users, the game can be purchased from the [Steam Store](https://store.steampowered.com/app/1097150/Fall_Guys_Ultimate_Knockout/). On Steam, users who have bought or received the game as a gift are given the option to leave a review for the game, and can give a \"thumbs up\" or \"thumbs down\" which serves as an indicator of whether the user recommends the game or not.\n",
    "\n",
    "<i>All of the data for this project was collected on February 13, 2021.</i>"
   ]
  },
  {
   "cell_type": "markdown",
   "metadata": {},
   "source": [
    "# Outline"
   ]
  },
  {
   "cell_type": "markdown",
   "metadata": {},
   "source": [
    "- Part 1: Understanding the Data\n",
    "- Part 2: Observing overall feedback of reviews. Recommended or not, words mentioned in reviews.\n",
    "- Part 3: Overall total playtime, total playtime by recommended or not, by other fields...\n",
    "- Part 4: Review_Timestamp. Observe how people felt about the game at the time they reviewed the game\n",
    "- Part 5: Trend of the Last_Played field. Can be used to check when a player \"quit playing\" Fall Guys"
   ]
  },
  {
   "cell_type": "markdown",
   "metadata": {},
   "source": [
    "# Part 1: Understanding the Data"
   ]
  },
  {
   "cell_type": "markdown",
   "metadata": {},
   "source": [
    "## The data"
   ]
  },
  {
   "cell_type": "markdown",
   "metadata": {},
   "source": [
    "`reviews.csv` contains every review that has been written on Steam for Fall Guys, with the condition that the review was written in English. It contains information such as the amount of time spent playing Fall Guys, whether the reviewer recommended the game or not, and when the review was written."
   ]
  },
  {
   "cell_type": "markdown",
   "metadata": {},
   "source": [
    "**The fields shown below on the table are before data is cleaned:**\n",
    "\n",
    "Column | Definition\n",
    "--- | ---\n",
    "Review | User review of the game\n",
    "Recommended | True if the reviewer gave a positive recommendation, false otherwise\n",
    "Total_Playtime | Total playtime (in minutes) at the time the review was written\n",
    "Review_Timestamp | Date and time of when the review was written. Formatted as m/d/y and GMT Time\n",
    "Last_Played | Unix timestamp of when the user last played the game "
   ]
  },
  {
   "cell_type": "markdown",
   "metadata": {},
   "source": [
    "More information on the Steam review fields: [https://partner.steamgames.com/doc/store/getreviews](https://partner.steamgames.com/doc/store/getreviews)"
   ]
  },
  {
   "cell_type": "markdown",
   "metadata": {},
   "source": [
    "## Importing libraries and loading the data"
   ]
  },
  {
   "cell_type": "code",
   "execution_count": 1,
   "metadata": {},
   "outputs": [],
   "source": [
    "import numpy as np\n",
    "import pandas as pd\n",
    "import matplotlib.pyplot as plt\n",
    "import seaborn as sns"
   ]
  },
  {
   "cell_type": "code",
   "execution_count": 12,
   "metadata": {},
   "outputs": [],
   "source": [
    "# Loading the data\n",
    "df = pd.read_csv('data/reviews.csv', encoding='ISO-8859-1')\n",
    "\n",
    "df.drop(\"Steam ID\", axis=1, inplace=True) # Steam ID identifies each user, which we don't need"
   ]
  },
  {
   "cell_type": "code",
   "execution_count": 13,
   "metadata": {},
   "outputs": [
    {
     "data": {
      "text/html": [
       "<div>\n",
       "<style scoped>\n",
       "    .dataframe tbody tr th:only-of-type {\n",
       "        vertical-align: middle;\n",
       "    }\n",
       "\n",
       "    .dataframe tbody tr th {\n",
       "        vertical-align: top;\n",
       "    }\n",
       "\n",
       "    .dataframe thead th {\n",
       "        text-align: right;\n",
       "    }\n",
       "</style>\n",
       "<table border=\"1\" class=\"dataframe\">\n",
       "  <thead>\n",
       "    <tr style=\"text-align: right;\">\n",
       "      <th></th>\n",
       "      <th>Review</th>\n",
       "      <th>Recommended</th>\n",
       "      <th>Total_Playtime</th>\n",
       "      <th>Review_Timestamp</th>\n",
       "      <th>Last_Played</th>\n",
       "    </tr>\n",
       "  </thead>\n",
       "  <tbody>\n",
       "    <tr>\n",
       "      <th>0</th>\n",
       "      <td>Wall Guys Sucks</td>\n",
       "      <td>True</td>\n",
       "      <td>275</td>\n",
       "      <td>2/13/21 8:25</td>\n",
       "      <td>1613204675</td>\n",
       "    </tr>\n",
       "    <tr>\n",
       "      <th>1</th>\n",
       "      <td>1</td>\n",
       "      <td>False</td>\n",
       "      <td>4164</td>\n",
       "      <td>2/13/21 8:04</td>\n",
       "      <td>1608127700</td>\n",
       "    </tr>\n",
       "    <tr>\n",
       "      <th>2</th>\n",
       "      <td>very nice game i bought it yesterday i love it...</td>\n",
       "      <td>True</td>\n",
       "      <td>33</td>\n",
       "      <td>2/13/21 7:34</td>\n",
       "      <td>1613203192</td>\n",
       "    </tr>\n",
       "    <tr>\n",
       "      <th>3</th>\n",
       "      <td>its ok</td>\n",
       "      <td>True</td>\n",
       "      <td>318</td>\n",
       "      <td>2/13/21 6:51</td>\n",
       "      <td>1613192434</td>\n",
       "    </tr>\n",
       "    <tr>\n",
       "      <th>4</th>\n",
       "      <td>ehyehvvchvvcdgyvv dhdhwdfhycfydgvdyyeegt heecduvh</td>\n",
       "      <td>True</td>\n",
       "      <td>8158</td>\n",
       "      <td>2/13/21 6:49</td>\n",
       "      <td>1613202336</td>\n",
       "    </tr>\n",
       "    <tr>\n",
       "      <th>...</th>\n",
       "      <td>...</td>\n",
       "      <td>...</td>\n",
       "      <td>...</td>\n",
       "      <td>...</td>\n",
       "      <td>...</td>\n",
       "    </tr>\n",
       "    <tr>\n",
       "      <th>128652</th>\n",
       "      <td>Honestly, one of the most refreshing and bold ...</td>\n",
       "      <td>True</td>\n",
       "      <td>375</td>\n",
       "      <td>8/4/20 7:20</td>\n",
       "      <td>1602679579</td>\n",
       "    </tr>\n",
       "    <tr>\n",
       "      <th>128653</th>\n",
       "      <td>Was it so hard to focus more on additional map...</td>\n",
       "      <td>False</td>\n",
       "      <td>13</td>\n",
       "      <td>8/4/20 7:18</td>\n",
       "      <td>1596528167</td>\n",
       "    </tr>\n",
       "    <tr>\n",
       "      <th>128654</th>\n",
       "      <td>[h1]9/10[/h1]\\n it is really cool that more an...</td>\n",
       "      <td>True</td>\n",
       "      <td>2116</td>\n",
       "      <td>8/4/20 7:12</td>\n",
       "      <td>1605827503</td>\n",
       "    </tr>\n",
       "    <tr>\n",
       "      <th>128655</th>\n",
       "      <td>https://www.youtube.com/watch?v=anPEhQvsBr4\\n\\...</td>\n",
       "      <td>True</td>\n",
       "      <td>3712</td>\n",
       "      <td>8/4/20 7:12</td>\n",
       "      <td>1601014874</td>\n",
       "    </tr>\n",
       "    <tr>\n",
       "      <th>128656</th>\n",
       "      <td>It's nice to have BR that's just about having ...</td>\n",
       "      <td>True</td>\n",
       "      <td>3074</td>\n",
       "      <td>8/4/20 7:12</td>\n",
       "      <td>1608388990</td>\n",
       "    </tr>\n",
       "  </tbody>\n",
       "</table>\n",
       "<p>128657 rows × 5 columns</p>\n",
       "</div>"
      ],
      "text/plain": [
       "                                                   Review  Recommended  \\\n",
       "0                                         Wall Guys Sucks         True   \n",
       "1                                                       1        False   \n",
       "2       very nice game i bought it yesterday i love it...         True   \n",
       "3                                                  its ok         True   \n",
       "4       ehyehvvchvvcdgyvv dhdhwdfhycfydgvdyyeegt heecduvh         True   \n",
       "...                                                   ...          ...   \n",
       "128652  Honestly, one of the most refreshing and bold ...         True   \n",
       "128653  Was it so hard to focus more on additional map...        False   \n",
       "128654  [h1]9/10[/h1]\\n it is really cool that more an...         True   \n",
       "128655  https://www.youtube.com/watch?v=anPEhQvsBr4\\n\\...         True   \n",
       "128656  It's nice to have BR that's just about having ...         True   \n",
       "\n",
       "        Total_Playtime Review_Timestamp  Last_Played  \n",
       "0                  275     2/13/21 8:25   1613204675  \n",
       "1                 4164     2/13/21 8:04   1608127700  \n",
       "2                   33     2/13/21 7:34   1613203192  \n",
       "3                  318     2/13/21 6:51   1613192434  \n",
       "4                 8158     2/13/21 6:49   1613202336  \n",
       "...                ...              ...          ...  \n",
       "128652             375      8/4/20 7:20   1602679579  \n",
       "128653              13      8/4/20 7:18   1596528167  \n",
       "128654            2116      8/4/20 7:12   1605827503  \n",
       "128655            3712      8/4/20 7:12   1601014874  \n",
       "128656            3074      8/4/20 7:12   1608388990  \n",
       "\n",
       "[128657 rows x 5 columns]"
      ]
     },
     "execution_count": 13,
     "metadata": {},
     "output_type": "execute_result"
    }
   ],
   "source": [
    "df"
   ]
  },
  {
   "cell_type": "markdown",
   "metadata": {},
   "source": [
    "## Cleaning the data"
   ]
  },
  {
   "cell_type": "markdown",
   "metadata": {},
   "source": [
    "The `Last_Played` field is in a Unix timestamp that is hard to interpret for humans. To make the field more human readable, we'll convert it to year-month-day."
   ]
  },
  {
   "cell_type": "code",
   "execution_count": 41,
   "metadata": {},
   "outputs": [],
   "source": [
    "# convert Last_Played from Unix timestamp to yyyy-mm-dd\n",
    "df['Last_Played'] = pd.to_datetime(df.Last_Played).dt.date"
   ]
  },
  {
   "cell_type": "code",
   "execution_count": 55,
   "metadata": {},
   "outputs": [
    {
     "data": {
      "text/plain": [
       "0    2021-02-13\n",
       "1    2020-12-16\n",
       "2    2021-02-13\n",
       "3    2021-02-13\n",
       "4    2021-02-13\n",
       "Name: Last_Played, dtype: object"
      ]
     },
     "execution_count": 55,
     "metadata": {},
     "output_type": "execute_result"
    }
   ],
   "source": [
    "df['Last_Played'].head()"
   ]
  },
  {
   "cell_type": "markdown",
   "metadata": {},
   "source": [
    "To keep the `Review_Timestamp` and `Last_Played` fields consistent, we'll remove the hour:minute part of the timestamp and format the date to be similar as the `Last_Played` field (hour:minute is not needed for our analysis)."
   ]
  },
  {
   "cell_type": "code",
   "execution_count": 44,
   "metadata": {},
   "outputs": [],
   "source": [
    "# convert Review_Timestamp to yyyy-mm-dd\n",
    "df['Review_Timestamp'] = pd.to_datetime(df.Review_Timestamp).dt.date"
   ]
  },
  {
   "cell_type": "code",
   "execution_count": 56,
   "metadata": {},
   "outputs": [
    {
     "data": {
      "text/plain": [
       "0    2021-02-13\n",
       "1    2021-02-13\n",
       "2    2021-02-13\n",
       "3    2021-02-13\n",
       "4    2021-02-13\n",
       "Name: Review_Timestamp, dtype: object"
      ]
     },
     "execution_count": 56,
     "metadata": {},
     "output_type": "execute_result"
    }
   ],
   "source": [
    "df['Review_Timestamp'].head()"
   ]
  },
  {
   "cell_type": "markdown",
   "metadata": {},
   "source": [
    "We will also convert the 'Total_Playtime' values from minutes to hours to make them easier to interpret."
   ]
  },
  {
   "cell_type": "code",
   "execution_count": 52,
   "metadata": {},
   "outputs": [],
   "source": [
    "# conversion from minute to hour\n",
    "df['Total_Playtime'] = round(df['Total_Playtime'] / 60, 1)"
   ]
  },
  {
   "cell_type": "code",
   "execution_count": 73,
   "metadata": {},
   "outputs": [
    {
     "data": {
      "text/plain": [
       "0      4.6\n",
       "1     69.4\n",
       "2      0.6\n",
       "3      5.3\n",
       "4    136.0\n",
       "Name: Total_Playtime, dtype: float64"
      ]
     },
     "execution_count": 73,
     "metadata": {},
     "output_type": "execute_result"
    }
   ],
   "source": [
    "# Total Playtime in hours\n",
    "df['Total_Playtime'].head()"
   ]
  },
  {
   "cell_type": "markdown",
   "metadata": {},
   "source": [
    "## Exploring the dataset"
   ]
  },
  {
   "cell_type": "markdown",
   "metadata": {},
   "source": [
    "After cleaning up our data, let's take a closer look at our dataset."
   ]
  },
  {
   "cell_type": "markdown",
   "metadata": {},
   "source": [
    "Column | Definition\n",
    "--- | ---\n",
    "Review | User review of the game\n",
    "Recommended | True if the reviewer gave a positive recommendation, false otherwise\n",
    "Total_Playtime | Total playtime (in hours) at the time the review was written\n",
    "Review_Timestamp | Date of when the review was written. Formatted as yyyy/mm/dd\n",
    "Last_Played | Date of when the user last played the game. Formatted as yyyy/mm/dd"
   ]
  },
  {
   "cell_type": "code",
   "execution_count": 70,
   "metadata": {},
   "outputs": [
    {
     "data": {
      "text/html": [
       "<div>\n",
       "<style scoped>\n",
       "    .dataframe tbody tr th:only-of-type {\n",
       "        vertical-align: middle;\n",
       "    }\n",
       "\n",
       "    .dataframe tbody tr th {\n",
       "        vertical-align: top;\n",
       "    }\n",
       "\n",
       "    .dataframe thead th {\n",
       "        text-align: right;\n",
       "    }\n",
       "</style>\n",
       "<table border=\"1\" class=\"dataframe\">\n",
       "  <thead>\n",
       "    <tr style=\"text-align: right;\">\n",
       "      <th></th>\n",
       "      <th>Review</th>\n",
       "      <th>Recommended</th>\n",
       "      <th>Total_Playtime</th>\n",
       "      <th>Review_Timestamp</th>\n",
       "      <th>Last_Played</th>\n",
       "    </tr>\n",
       "  </thead>\n",
       "  <tbody>\n",
       "    <tr>\n",
       "      <th>0</th>\n",
       "      <td>Wall Guys Sucks</td>\n",
       "      <td>True</td>\n",
       "      <td>4.6</td>\n",
       "      <td>2021-02-13</td>\n",
       "      <td>2021-02-13</td>\n",
       "    </tr>\n",
       "    <tr>\n",
       "      <th>1</th>\n",
       "      <td>1</td>\n",
       "      <td>False</td>\n",
       "      <td>69.4</td>\n",
       "      <td>2021-02-13</td>\n",
       "      <td>2020-12-16</td>\n",
       "    </tr>\n",
       "    <tr>\n",
       "      <th>2</th>\n",
       "      <td>very nice game i bought it yesterday i love it...</td>\n",
       "      <td>True</td>\n",
       "      <td>0.6</td>\n",
       "      <td>2021-02-13</td>\n",
       "      <td>2021-02-13</td>\n",
       "    </tr>\n",
       "    <tr>\n",
       "      <th>3</th>\n",
       "      <td>its ok</td>\n",
       "      <td>True</td>\n",
       "      <td>5.3</td>\n",
       "      <td>2021-02-13</td>\n",
       "      <td>2021-02-13</td>\n",
       "    </tr>\n",
       "    <tr>\n",
       "      <th>4</th>\n",
       "      <td>ehyehvvchvvcdgyvv dhdhwdfhycfydgvdyyeegt heecduvh</td>\n",
       "      <td>True</td>\n",
       "      <td>136.0</td>\n",
       "      <td>2021-02-13</td>\n",
       "      <td>2021-02-13</td>\n",
       "    </tr>\n",
       "    <tr>\n",
       "      <th>...</th>\n",
       "      <td>...</td>\n",
       "      <td>...</td>\n",
       "      <td>...</td>\n",
       "      <td>...</td>\n",
       "      <td>...</td>\n",
       "    </tr>\n",
       "    <tr>\n",
       "      <th>128652</th>\n",
       "      <td>Honestly, one of the most refreshing and bold ...</td>\n",
       "      <td>True</td>\n",
       "      <td>6.2</td>\n",
       "      <td>2020-08-04</td>\n",
       "      <td>2020-10-14</td>\n",
       "    </tr>\n",
       "    <tr>\n",
       "      <th>128653</th>\n",
       "      <td>Was it so hard to focus more on additional map...</td>\n",
       "      <td>False</td>\n",
       "      <td>0.2</td>\n",
       "      <td>2020-08-04</td>\n",
       "      <td>2020-08-04</td>\n",
       "    </tr>\n",
       "    <tr>\n",
       "      <th>128654</th>\n",
       "      <td>[h1]9/10[/h1]\\n it is really cool that more an...</td>\n",
       "      <td>True</td>\n",
       "      <td>35.3</td>\n",
       "      <td>2020-08-04</td>\n",
       "      <td>2020-11-19</td>\n",
       "    </tr>\n",
       "    <tr>\n",
       "      <th>128655</th>\n",
       "      <td>https://www.youtube.com/watch?v=anPEhQvsBr4\\n\\...</td>\n",
       "      <td>True</td>\n",
       "      <td>61.9</td>\n",
       "      <td>2020-08-04</td>\n",
       "      <td>2020-09-25</td>\n",
       "    </tr>\n",
       "    <tr>\n",
       "      <th>128656</th>\n",
       "      <td>It's nice to have BR that's just about having ...</td>\n",
       "      <td>True</td>\n",
       "      <td>51.2</td>\n",
       "      <td>2020-08-04</td>\n",
       "      <td>2020-12-19</td>\n",
       "    </tr>\n",
       "  </tbody>\n",
       "</table>\n",
       "<p>128657 rows × 5 columns</p>\n",
       "</div>"
      ],
      "text/plain": [
       "                                                   Review  Recommended  \\\n",
       "0                                         Wall Guys Sucks         True   \n",
       "1                                                       1        False   \n",
       "2       very nice game i bought it yesterday i love it...         True   \n",
       "3                                                  its ok         True   \n",
       "4       ehyehvvchvvcdgyvv dhdhwdfhycfydgvdyyeegt heecduvh         True   \n",
       "...                                                   ...          ...   \n",
       "128652  Honestly, one of the most refreshing and bold ...         True   \n",
       "128653  Was it so hard to focus more on additional map...        False   \n",
       "128654  [h1]9/10[/h1]\\n it is really cool that more an...         True   \n",
       "128655  https://www.youtube.com/watch?v=anPEhQvsBr4\\n\\...         True   \n",
       "128656  It's nice to have BR that's just about having ...         True   \n",
       "\n",
       "        Total_Playtime Review_Timestamp Last_Played  \n",
       "0                  4.6       2021-02-13  2021-02-13  \n",
       "1                 69.4       2021-02-13  2020-12-16  \n",
       "2                  0.6       2021-02-13  2021-02-13  \n",
       "3                  5.3       2021-02-13  2021-02-13  \n",
       "4                136.0       2021-02-13  2021-02-13  \n",
       "...                ...              ...         ...  \n",
       "128652             6.2       2020-08-04  2020-10-14  \n",
       "128653             0.2       2020-08-04  2020-08-04  \n",
       "128654            35.3       2020-08-04  2020-11-19  \n",
       "128655            61.9       2020-08-04  2020-09-25  \n",
       "128656            51.2       2020-08-04  2020-12-19  \n",
       "\n",
       "[128657 rows x 5 columns]"
      ]
     },
     "execution_count": 70,
     "metadata": {},
     "output_type": "execute_result"
    }
   ],
   "source": [
    "df"
   ]
  },
  {
   "cell_type": "markdown",
   "metadata": {},
   "source": [
    "We use the describe method below to observe the statistics of amount of hours users played Fall Guys. Notice the huge gap between the 75% percentile and the maximum hours of total playtime. Someone has played Fall Guys for approximately 4329.1 hours, or 180 days! There are 193 days between the official release date of Fall Guys and when this data was extracted, so this person who played for 180 days certainly has a lot of hours in, which I think is quite shocking."
   ]
  },
  {
   "cell_type": "code",
   "execution_count": 72,
   "metadata": {},
   "outputs": [
    {
     "data": {
      "text/html": [
       "<div>\n",
       "<style scoped>\n",
       "    .dataframe tbody tr th:only-of-type {\n",
       "        vertical-align: middle;\n",
       "    }\n",
       "\n",
       "    .dataframe tbody tr th {\n",
       "        vertical-align: top;\n",
       "    }\n",
       "\n",
       "    .dataframe thead th {\n",
       "        text-align: right;\n",
       "    }\n",
       "</style>\n",
       "<table border=\"1\" class=\"dataframe\">\n",
       "  <thead>\n",
       "    <tr style=\"text-align: right;\">\n",
       "      <th></th>\n",
       "      <th>Total_Playtime</th>\n",
       "    </tr>\n",
       "  </thead>\n",
       "  <tbody>\n",
       "    <tr>\n",
       "      <th>count</th>\n",
       "      <td>128657.000000</td>\n",
       "    </tr>\n",
       "    <tr>\n",
       "      <th>mean</th>\n",
       "      <td>40.766164</td>\n",
       "    </tr>\n",
       "    <tr>\n",
       "      <th>std</th>\n",
       "      <td>73.712498</td>\n",
       "    </tr>\n",
       "    <tr>\n",
       "      <th>min</th>\n",
       "      <td>0.000000</td>\n",
       "    </tr>\n",
       "    <tr>\n",
       "      <th>25%</th>\n",
       "      <td>10.400000</td>\n",
       "    </tr>\n",
       "    <tr>\n",
       "      <th>50%</th>\n",
       "      <td>21.400000</td>\n",
       "    </tr>\n",
       "    <tr>\n",
       "      <th>75%</th>\n",
       "      <td>46.000000</td>\n",
       "    </tr>\n",
       "    <tr>\n",
       "      <th>max</th>\n",
       "      <td>4329.100000</td>\n",
       "    </tr>\n",
       "  </tbody>\n",
       "</table>\n",
       "</div>"
      ],
      "text/plain": [
       "       Total_Playtime\n",
       "count   128657.000000\n",
       "mean        40.766164\n",
       "std         73.712498\n",
       "min          0.000000\n",
       "25%         10.400000\n",
       "50%         21.400000\n",
       "75%         46.000000\n",
       "max       4329.100000"
      ]
     },
     "execution_count": 72,
     "metadata": {},
     "output_type": "execute_result"
    }
   ],
   "source": [
    "df.describe()"
   ]
  },
  {
   "cell_type": "code",
   "execution_count": 71,
   "metadata": {},
   "outputs": [
    {
     "name": "stdout",
     "output_type": "stream",
     "text": [
      "<class 'pandas.core.frame.DataFrame'>\n",
      "RangeIndex: 128657 entries, 0 to 128656\n",
      "Data columns (total 5 columns):\n",
      " #   Column            Non-Null Count   Dtype  \n",
      "---  ------            --------------   -----  \n",
      " 0   Review            128330 non-null  object \n",
      " 1   Recommended       128657 non-null  bool   \n",
      " 2   Total_Playtime    128657 non-null  float64\n",
      " 3   Review_Timestamp  128657 non-null  object \n",
      " 4   Last_Played       128657 non-null  object \n",
      "dtypes: bool(1), float64(1), object(3)\n",
      "memory usage: 4.0+ MB\n"
     ]
    }
   ],
   "source": [
    "df.info()"
   ]
  },
  {
   "cell_type": "code",
   "execution_count": 75,
   "metadata": {},
   "outputs": [
    {
     "data": {
      "text/plain": [
       "Review              327\n",
       "Recommended           0\n",
       "Total_Playtime        0\n",
       "Review_Timestamp      0\n",
       "Last_Played           0\n",
       "dtype: int64"
      ]
     },
     "execution_count": 75,
     "metadata": {},
     "output_type": "execute_result"
    }
   ],
   "source": [
    "df.isna().sum()"
   ]
  },
  {
   "cell_type": "markdown",
   "metadata": {},
   "source": [
    "Apparently, there are missing values for the Review field. This might be because the user didn't write a review for the game, but were able to still give a positive or negative recommendation of the game. In fact, if we check the rows where there are missing reviews, we can still observe the other fields as they aren't missing, so we'll keep these rows in our dataset."
   ]
  },
  {
   "cell_type": "code",
   "execution_count": 78,
   "metadata": {},
   "outputs": [
    {
     "data": {
      "text/html": [
       "<div>\n",
       "<style scoped>\n",
       "    .dataframe tbody tr th:only-of-type {\n",
       "        vertical-align: middle;\n",
       "    }\n",
       "\n",
       "    .dataframe tbody tr th {\n",
       "        vertical-align: top;\n",
       "    }\n",
       "\n",
       "    .dataframe thead th {\n",
       "        text-align: right;\n",
       "    }\n",
       "</style>\n",
       "<table border=\"1\" class=\"dataframe\">\n",
       "  <thead>\n",
       "    <tr style=\"text-align: right;\">\n",
       "      <th></th>\n",
       "      <th>Review</th>\n",
       "      <th>Recommended</th>\n",
       "      <th>Total_Playtime</th>\n",
       "      <th>Review_Timestamp</th>\n",
       "      <th>Last_Played</th>\n",
       "    </tr>\n",
       "  </thead>\n",
       "  <tbody>\n",
       "    <tr>\n",
       "      <th>35</th>\n",
       "      <td>NaN</td>\n",
       "      <td>True</td>\n",
       "      <td>21.6</td>\n",
       "      <td>2021-02-13</td>\n",
       "      <td>2021-02-13</td>\n",
       "    </tr>\n",
       "    <tr>\n",
       "      <th>63</th>\n",
       "      <td>NaN</td>\n",
       "      <td>True</td>\n",
       "      <td>10.5</td>\n",
       "      <td>2021-02-12</td>\n",
       "      <td>2021-02-12</td>\n",
       "    </tr>\n",
       "    <tr>\n",
       "      <th>132</th>\n",
       "      <td>NaN</td>\n",
       "      <td>True</td>\n",
       "      <td>73.4</td>\n",
       "      <td>2021-02-11</td>\n",
       "      <td>2021-02-12</td>\n",
       "    </tr>\n",
       "    <tr>\n",
       "      <th>355</th>\n",
       "      <td>NaN</td>\n",
       "      <td>True</td>\n",
       "      <td>181.6</td>\n",
       "      <td>2021-02-07</td>\n",
       "      <td>2021-02-12</td>\n",
       "    </tr>\n",
       "    <tr>\n",
       "      <th>693</th>\n",
       "      <td>NaN</td>\n",
       "      <td>True</td>\n",
       "      <td>54.0</td>\n",
       "      <td>2021-02-03</td>\n",
       "      <td>2021-02-12</td>\n",
       "    </tr>\n",
       "    <tr>\n",
       "      <th>...</th>\n",
       "      <td>...</td>\n",
       "      <td>...</td>\n",
       "      <td>...</td>\n",
       "      <td>...</td>\n",
       "      <td>...</td>\n",
       "    </tr>\n",
       "    <tr>\n",
       "      <th>119205</th>\n",
       "      <td>NaN</td>\n",
       "      <td>True</td>\n",
       "      <td>24.1</td>\n",
       "      <td>2020-08-06</td>\n",
       "      <td>2020-08-24</td>\n",
       "    </tr>\n",
       "    <tr>\n",
       "      <th>119775</th>\n",
       "      <td>NaN</td>\n",
       "      <td>True</td>\n",
       "      <td>56.0</td>\n",
       "      <td>2020-08-06</td>\n",
       "      <td>2021-01-15</td>\n",
       "    </tr>\n",
       "    <tr>\n",
       "      <th>119861</th>\n",
       "      <td>NaN</td>\n",
       "      <td>True</td>\n",
       "      <td>8.7</td>\n",
       "      <td>2020-08-06</td>\n",
       "      <td>2020-09-08</td>\n",
       "    </tr>\n",
       "    <tr>\n",
       "      <th>120939</th>\n",
       "      <td>NaN</td>\n",
       "      <td>True</td>\n",
       "      <td>10.7</td>\n",
       "      <td>2020-08-05</td>\n",
       "      <td>2020-12-27</td>\n",
       "    </tr>\n",
       "    <tr>\n",
       "      <th>123607</th>\n",
       "      <td>NaN</td>\n",
       "      <td>True</td>\n",
       "      <td>8.8</td>\n",
       "      <td>2020-08-04</td>\n",
       "      <td>2020-09-07</td>\n",
       "    </tr>\n",
       "  </tbody>\n",
       "</table>\n",
       "<p>327 rows × 5 columns</p>\n",
       "</div>"
      ],
      "text/plain": [
       "       Review  Recommended  Total_Playtime Review_Timestamp Last_Played\n",
       "35        NaN         True            21.6       2021-02-13  2021-02-13\n",
       "63        NaN         True            10.5       2021-02-12  2021-02-12\n",
       "132       NaN         True            73.4       2021-02-11  2021-02-12\n",
       "355       NaN         True           181.6       2021-02-07  2021-02-12\n",
       "693       NaN         True            54.0       2021-02-03  2021-02-12\n",
       "...       ...          ...             ...              ...         ...\n",
       "119205    NaN         True            24.1       2020-08-06  2020-08-24\n",
       "119775    NaN         True            56.0       2020-08-06  2021-01-15\n",
       "119861    NaN         True             8.7       2020-08-06  2020-09-08\n",
       "120939    NaN         True            10.7       2020-08-05  2020-12-27\n",
       "123607    NaN         True             8.8       2020-08-04  2020-09-07\n",
       "\n",
       "[327 rows x 5 columns]"
      ]
     },
     "execution_count": 78,
     "metadata": {},
     "output_type": "execute_result"
    }
   ],
   "source": [
    "df[df['Review'].isna() == True]"
   ]
  },
  {
   "cell_type": "markdown",
   "metadata": {},
   "source": [
    "# Part 2: Comparing overall feedback"
   ]
  },
  {
   "cell_type": "markdown",
   "metadata": {},
   "source": [
    "**Based on reviews, do players recommend Fall Guys?**"
   ]
  },
  {
   "cell_type": "markdown",
   "metadata": {},
   "source": [
    "Let's create a barplot and pie graph to see the amount of users that would recommend the game or not."
   ]
  },
  {
   "cell_type": "code",
   "execution_count": 101,
   "metadata": {},
   "outputs": [
    {
     "data": {
      "text/plain": [
       "<AxesSubplot:title={'center':'Amount of users that recommended Fall Guys'}, xlabel='Recommended', ylabel='count'>"
      ]
     },
     "execution_count": 101,
     "metadata": {},
     "output_type": "execute_result"
    },
    {
     "data": {
      "image/png": "[encoded data removed]",
      "text/plain": [
       "<Figure size 1800x750 with 1 Axes>"
      ]
     },
     "metadata": {
      "needs_background": "light"
     },
     "output_type": "display_data"
    }
   ],
   "source": [
    "plt.figure(figsize=(12,5),dpi=150)\n",
    "plt.title(\"Amount of users that recommended Fall Guys\", fontweight='bold')\n",
    "\n",
    "# barplot of whether the user recommended Fall Guys\n",
    "sns.countplot(data = df, x='Recommended', palette=['#f73ca3',\"#30d7dd\"])\n",
    "\n",
    "# save image\n",
    "#plt.savefig('barplot_recommended.png',dpi=200);"
   ]
  },
  {
   "cell_type": "code",
   "execution_count": 148,
   "metadata": {},
   "outputs": [
    {
     "data": {
      "image/png": "[encoded data removed]",
      "text/plain": [
       "<Figure size 1800x600 with 1 Axes>"
      ]
     },
     "metadata": {},
     "output_type": "display_data"
    }
   ],
   "source": [
    "# percentages of whether game was recommended or not\n",
    "recommended_true = (df[df['Recommended'] == True].count() / df.shape[0])[0]\n",
    "recommended_false = (df[df['Recommended'] == False].count() / df.shape[0])[0]\n",
    "\n",
    "# percentages, labels, and colors for pie chart\n",
    "percentages = [recommended_true, recommended_false]\n",
    "my_labels = 'True', 'False'\n",
    "my_colors = ['#30d7dd','#f73ca3']\n",
    "\n",
    "# plot pie chart with percentages rounded to 1 decimal point\n",
    "plt.figure(figsize=(12,4),dpi=150)\n",
    "plt.pie(percentages, labels=my_labels, autopct='%1.1f%%',\n",
    "        colors=my_colors, normalize=True) # normalize to sum percentages to 1\n",
    "plt.title(\"Percent of Users that Recommended Fall Guys\", fontweight = \"bold\")\n",
    "plt.axis('equal');\n",
    "\n",
    "# save image\n",
    "#plt.savefig('piechart_recommended.png',dpi=200);"
   ]
  },
  {
   "cell_type": "markdown",
   "metadata": {},
   "source": [
    "It seems like the majority of users who reviewed the game generally recommended it, despite all the criticism and hate that people have towards it. However, a percentage of 15.1% of users who didn't recommend the game is still quite a large number. Let's examine what users wrote in their reviews and see what might've contributed to the recommended percentages."
   ]
  },
  {
   "cell_type": "code",
   "execution_count": null,
   "metadata": {},
   "outputs": [],
   "source": []
  }
 ],
 "metadata": {
  "kernelspec": {
   "display_name": "Python 3",
   "language": "python",
   "name": "python3"
  },
  "language_info": {
   "codemirror_mode": {
    "name": "ipython",
    "version": 3
   },
   "file_extension": ".py",
   "mimetype": "text/x-python",
   "name": "python",
   "nbconvert_exporter": "python",
   "pygments_lexer": "ipython3",
   "version": "3.7.6"
  }
 },
 "nbformat": 4,
 "nbformat_minor": 4
}
